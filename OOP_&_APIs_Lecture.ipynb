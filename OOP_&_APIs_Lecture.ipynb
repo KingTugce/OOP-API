{
 "cells": [
  {
   "cell_type": "markdown",
   "metadata": {},
   "source": [
    "# Object Oriented Programming 2 - examples and APIs\n"
   ]
  },
  {
   "cell_type": "markdown",
   "metadata": {},
   "source": [
    "## Tasks Today:\n",
    "\n",
    "   \n",
    "\n",
    "1) <b>Shopping Cart Example</b> <br>\n",
    "2) <b>Requests and the pokemon API </b> <br>\n",
    " "
   ]
  },
  {
   "cell_type": "markdown",
   "metadata": {},
   "source": [
    "# Goal \n",
    "### build a shopping cart program with prices and quantities using objects and a dictionary"
   ]
  },
  {
   "cell_type": "code",
   "execution_count": 2,
   "metadata": {},
   "outputs": [
    {
     "name": "stdout",
     "output_type": "stream",
     "text": [
      "\n",
      "Welcome to the Shopping Program.\n",
      "Options:\n",
      "[1] Show Current Cart\n",
      "[2] Add Item\n",
      "[3] Remove Item\n",
      "[4] Quit\n",
      "        \n",
      "What would you like to do? 4\n",
      "Buy something next time.\n"
     ]
    }
   ],
   "source": [
    "# Create a class called cart that retains items and has methods to add, remove, and show\n",
    "\n",
    "# this class is just responsible for the cart object and the actions of the cart object\n",
    "class Cart():\n",
    "    def __init__(self):\n",
    "        self.items = []\n",
    "        \n",
    "    def add(self):\n",
    "        newitem = input('What would you like to add to your cart? ')\n",
    "        self.items.append(newitem.lower())\n",
    "        print(f'{newitem} has been added to your cart.\\n')\n",
    "    \n",
    "    def remove(self):\n",
    "        remov = input('What would you like to remove from your cart? ')\n",
    "        try:\n",
    "            self.items.remove(remov.lower())\n",
    "            print(f'{remov} was successfully removed from your cart.\\n')\n",
    "        except:\n",
    "            print(f'{remov} was not in your cart.\\n')\n",
    "    \n",
    "    def show(self):\n",
    "        print(f'Your cart currently contains:\\n{self.items}\\n')\n",
    "    \n",
    "    def checkout(self):\n",
    "        if not self.items:\n",
    "            print('Buy something next time.')\n",
    "        else:\n",
    "            print('Thank you for shopping.')\n",
    "            print(f'Your cart contains:')\n",
    "            for i in range(len(self.items)): # index loop\n",
    "                # i represents an index number\n",
    "                # therefore cart[i] represents a value in the cart\n",
    "                print(f'{i+1} | {self.items[i]}')\n",
    "\n",
    "# control the logic and flow/operation of our overall program\n",
    "class Main:\n",
    "    def showInstructions():\n",
    "        print(\"\"\"\n",
    "Welcome to the Shopping Program.\n",
    "Options:\n",
    "[1] Show Current Cart\n",
    "[2] Add Item\n",
    "[3] Remove Item\n",
    "[4] Quit\n",
    "        \"\"\")\n",
    "    \n",
    "    # driver code - responsible for actually calling all of my functions\n",
    "    def run():\n",
    "        Main.showInstructions()\n",
    "        mycart = Cart()\n",
    "        while True:\n",
    "            choice = input('What would you like to do? ')\n",
    "            if choice == '1':\n",
    "                if mycart.items == []:\n",
    "                    print('Your cart is empty, you have nothing to show.\\n')\n",
    "                else:\n",
    "                    mycart.show()\n",
    "            elif choice == '2':\n",
    "                mycart.add()\n",
    "            elif choice == '3':\n",
    "                if mycart.items == []:\n",
    "                    print('Your cart is empty, you have nothing to remove.\\n')\n",
    "                else:\n",
    "                    mycart.remove()\n",
    "            elif choice == '4':\n",
    "                mycart.checkout()\n",
    "                break\n",
    "            else:\n",
    "                print('Invalid input, please try again.')\n",
    "\n",
    "Main.run()"
   ]
  },
  {
   "cell_type": "markdown",
   "metadata": {},
   "source": [
    "# working with APIs"
   ]
  },
  {
   "cell_type": "markdown",
   "metadata": {},
   "source": [
    "<p> What exactly is an API? <br> <br>\n",
    "API is the acronym for Application Programming Interface, which is a software intermediary that allows two applications to talk to each other. Each time you use an app like Facebook, send an instant message, or check the weather on your phone, you're using an API. </p>"
   ]
  },
  {
   "cell_type": "markdown",
   "metadata": {},
   "source": [
    "### The Poke API  allows you to retreive a pokemon's information from PokeAPI https://pokeapi.co/\n",
    "\n"
   ]
  },
  {
   "cell_type": "code",
   "execution_count": 5,
   "metadata": {},
   "outputs": [
    {
     "name": "stdout",
     "output_type": "stream",
     "text": [
      "dict_keys(['abilities', 'base_experience', 'forms', 'game_indices', 'height', 'held_items', 'id', 'is_default', 'location_area_encounters', 'moves', 'name', 'order', 'past_types', 'species', 'sprites', 'stats', 'types', 'weight'])\n"
     ]
    }
   ],
   "source": [
    "# making an API call\n",
    "import requests as r\n",
    "req = r.get('https://pokeapi.co/api/v2/pokemon/pikachu')\n",
    "if req.status_code == 200:\n",
    "    data = req.json()\n",
    "print(data.keys())"
   ]
  },
  {
   "cell_type": "markdown",
   "metadata": {},
   "source": [
    "### Display a Pokemon's name, abilities, types, and weight"
   ]
  },
  {
   "cell_type": "code",
   "execution_count": 6,
   "metadata": {},
   "outputs": [
    {
     "name": "stdout",
     "output_type": "stream",
     "text": [
      "pikachu\n"
     ]
    }
   ],
   "source": [
    "# name, abilities, types, and weight\n",
    "\n",
    "# get the name\n",
    "# when im going 1 at a time, my goal is save the name as its own variable\n",
    "name = data['name']\n",
    "print(name)"
   ]
  },
  {
   "cell_type": "code",
   "execution_count": 7,
   "metadata": {},
   "outputs": [
    {
     "name": "stdout",
     "output_type": "stream",
     "text": [
      "60\n"
     ]
    }
   ],
   "source": [
    "# weight is probably the same approach to access as name\n",
    "weight = data['weight']\n",
    "print(weight)"
   ]
  },
  {
   "cell_type": "code",
   "execution_count": 8,
   "metadata": {},
   "outputs": [
    {
     "name": "stdout",
     "output_type": "stream",
     "text": [
      "lightning-rod\n",
      "['static', 'lightning-rod']\n",
      "['static', 'lightning-rod']\n"
     ]
    }
   ],
   "source": [
    "# abilities - we have a little more work to do - abilities is a list\n",
    "abilityname = data['abilities'][1]['ability']['name']\n",
    "print(abilityname)\n",
    "\n",
    "# if we want to do something to each item in our list, we need a loop!\n",
    "abilities = []\n",
    "for x in data['abilities']:\n",
    "    abilities.append(x['ability']['name'])\n",
    "print(abilities)\n",
    "\n",
    "# hey, thats a for loop through a list creating a new list with a transformation\n",
    "# isn't there a better way to do that?\n",
    "# LIST COMPREHENSIONS are made for this! :)\n",
    "# [transformation for item in iterable]\n",
    "abilities = [x['ability']['name'] for x in data['abilities']]\n",
    "print(abilities)"
   ]
  },
  {
   "cell_type": "code",
   "execution_count": 9,
   "metadata": {},
   "outputs": [
    {
     "name": "stdout",
     "output_type": "stream",
     "text": [
      "electric\n",
      "['electric']\n"
     ]
    }
   ],
   "source": [
    "# types - similar structure to abilities\n",
    "typename = data['types'][0]['type']['name']\n",
    "print(typename)\n",
    "\n",
    "# if I can do it for one, I can translate it for many\n",
    "# translate the single transformation into a list comprehension\n",
    "types = [x['type']['name'] for x in data['types']]\n",
    "print(types)"
   ]
  },
  {
   "cell_type": "code",
   "execution_count": 10,
   "metadata": {},
   "outputs": [],
   "source": [
    "# the assignment suggests the following structure for a single pokemon\n",
    "pokemon1 = {\n",
    "'name': '',\n",
    "'abilities': [],\n",
    "'weight': '',\n",
    "'types': []\n",
    "}\n",
    "\n",
    "# it turns out that if we have figured out the processes for getting this data separately,\n",
    "    # we can easily make that dictionary"
   ]
  },
  {
   "cell_type": "code",
   "execution_count": 11,
   "metadata": {},
   "outputs": [
    {
     "name": "stdout",
     "output_type": "stream",
     "text": [
      "{'name': 'pikachu', 'abilities': ['static', 'lightning-rod'], 'weight': 60, 'types': ['electric']}\n"
     ]
    }
   ],
   "source": [
    "pikachu = {\n",
    "    'name': name,\n",
    "    'abilities': abilities,\n",
    "    'weight': weight,\n",
    "    'types': types\n",
    "}\n",
    "print(pikachu)"
   ]
  },
  {
   "cell_type": "markdown",
   "metadata": {},
   "source": [
    "#### Create a function to Pull in your own Pokemon's data "
   ]
  },
  {
   "cell_type": "code",
   "execution_count": 4,
   "metadata": {},
   "outputs": [
    {
     "ename": "ModuleNotFoundError",
     "evalue": "No module named 'requests'",
     "output_type": "error",
     "traceback": [
      "\u001b[0;31m---------------------------------------------------------------------------\u001b[0m",
      "\u001b[0;31mModuleNotFoundError\u001b[0m                       Traceback (most recent call last)",
      "Input \u001b[0;32mIn [4]\u001b[0m, in \u001b[0;36m<module>\u001b[0;34m\u001b[0m\n\u001b[0;32m----> 1\u001b[0m \u001b[38;5;28;01mimport\u001b[39;00m \u001b[38;5;21;01mrequests\u001b[39;00m \u001b[38;5;28;01mas\u001b[39;00m \u001b[38;5;21;01mr\u001b[39;00m\n\u001b[1;32m      3\u001b[0m \u001b[38;5;28;01mdef\u001b[39;00m \u001b[38;5;21mpoke_api_call\u001b[39m(pokemon):\n\u001b[1;32m      4\u001b[0m     \u001b[38;5;28;01mpass\u001b[39;00m\n",
      "\u001b[0;31mModuleNotFoundError\u001b[0m: No module named 'requests'"
     ]
    }
   ],
   "source": [
    "import requests as r\n",
    "\n",
    "def poke_api_call(pokemon):\n",
    "    pass\n",
    "\n"
   ]
  },
  {
   "cell_type": "markdown",
   "metadata": {},
   "source": [
    "#### Use your function to create a dictionary of your Johto League 6  (favorite 6 pokemon)"
   ]
  },
  {
   "cell_type": "code",
   "execution_count": 5,
   "metadata": {},
   "outputs": [],
   "source": [
    "# Place all 6 of your pokemon on the object below, each pokemon should have at least as much info as Pikachu did.\n",
    "\n",
    "my_six_pokemon = {}"
   ]
  },
  {
   "cell_type": "markdown",
   "metadata": {},
   "source": [
    "## Lets create a class called 'Pokemon' and create our pokemon as instances"
   ]
  },
  {
   "cell_type": "code",
   "execution_count": 6,
   "metadata": {},
   "outputs": [
    {
     "name": "stdout",
     "output_type": "stream",
     "text": [
      "{'name': None, 'types': [], 'abilities': [], 'weight': None}\n"
     ]
    },
    {
     "ename": "ModuleNotFoundError",
     "evalue": "No module named 'requests'",
     "output_type": "error",
     "traceback": [
      "\u001b[0;31m---------------------------------------------------------------------------\u001b[0m",
      "\u001b[0;31mModuleNotFoundError\u001b[0m                       Traceback (most recent call last)",
      "Input \u001b[0;32mIn [6]\u001b[0m, in \u001b[0;36m<module>\u001b[0;34m\u001b[0m\n\u001b[1;32m     24\u001b[0m \u001b[38;5;28mprint\u001b[39m(pikachu\u001b[38;5;241m.\u001b[39m\u001b[38;5;18m__dict__\u001b[39m) \n\u001b[1;32m     25\u001b[0m \u001b[38;5;66;03m# dunder methods/attributes (aka double underscore) are special built-in methods and attributes\u001b[39;00m\n\u001b[1;32m     26\u001b[0m     \u001b[38;5;66;03m# that have specific behavior\u001b[39;00m\n\u001b[1;32m     27\u001b[0m     \u001b[38;5;66;03m# so when we use an __init__ method, the __dict__ attribute is automatically created in the background\u001b[39;00m\n\u001b[1;32m     28\u001b[0m     \u001b[38;5;66;03m# so we can access the __dict__ attribute\u001b[39;00m\n\u001b[1;32m     29\u001b[0m         \u001b[38;5;66;03m# has value of a dictionary representation of all of the other attributes of our object   \u001b[39;00m\n\u001b[0;32m---> 30\u001b[0m \u001b[43mpikachu\u001b[49m\u001b[38;5;241;43m.\u001b[39;49m\u001b[43mpokeAPIcall\u001b[49m\u001b[43m(\u001b[49m\u001b[38;5;124;43m'\u001b[39;49m\u001b[38;5;124;43mpikachu\u001b[39;49m\u001b[38;5;124;43m'\u001b[39;49m\u001b[43m)\u001b[49m \u001b[38;5;66;03m# make the api call happen for the pikachu instance of the Pokemon class\u001b[39;00m\n\u001b[1;32m     31\u001b[0m \u001b[38;5;28mprint\u001b[39m(pikachu)\n",
      "Input \u001b[0;32mIn [6]\u001b[0m, in \u001b[0;36mPokemon.pokeAPIcall\u001b[0;34m(self, pokeName)\u001b[0m\n\u001b[1;32m      8\u001b[0m \u001b[38;5;28;01mdef\u001b[39;00m \u001b[38;5;21mpokeAPIcall\u001b[39m(\u001b[38;5;28mself\u001b[39m, pokeName):\n\u001b[0;32m----> 9\u001b[0m     \u001b[38;5;28;01mimport\u001b[39;00m \u001b[38;5;21;01mrequests\u001b[39;00m \u001b[38;5;28;01mas\u001b[39;00m \u001b[38;5;21;01mr\u001b[39;00m\n\u001b[1;32m     10\u001b[0m     req \u001b[38;5;241m=\u001b[39m r\u001b[38;5;241m.\u001b[39mget(\u001b[38;5;124mf\u001b[39m\u001b[38;5;124m'\u001b[39m\u001b[38;5;124mhttps://pokeapi.co/api/v2/pokemon/\u001b[39m\u001b[38;5;132;01m{\u001b[39;00mpokeName\u001b[38;5;132;01m}\u001b[39;00m\u001b[38;5;124m'\u001b[39m)\n\u001b[1;32m     11\u001b[0m     \u001b[38;5;28;01mif\u001b[39;00m req\u001b[38;5;241m.\u001b[39mstatus_code \u001b[38;5;241m==\u001b[39m \u001b[38;5;241m200\u001b[39m:\n",
      "\u001b[0;31mModuleNotFoundError\u001b[0m: No module named 'requests'"
     ]
    }
   ],
   "source": [
    "\n",
    "class Pokemon:\n",
    "    def __init__(self):\n",
    "        self.name = None\n",
    "        self.types = []\n",
    "        self.abilities = []\n",
    "        self.weight = None\n",
    "    \n",
    "    def pokeAPIcall(self, pokeName):\n",
    "        import requests as r\n",
    "        req = r.get(f'https://pokeapi.co/api/v2/pokemon/{pokeName}')\n",
    "        if req.status_code == 200:\n",
    "            data = req.json()\n",
    "        else:\n",
    "            print('Ran into an issue: {req.status_code}') # send back the error code if something went wrong\n",
    "            return\n",
    "\n",
    "        self.name = data['name'].title()\n",
    "        self.types = [x['type']['name'] for x in data['types']]\n",
    "        self.abilities = [x['ability']['name'] for x in data['abilities']]\n",
    "        self.weight = data['weight']\n",
    "        print(f\"{self.name}'s data has been updated! {self.__dict__}\")\n",
    "        \n",
    "pikachu = Pokemon() # instantiate a pikachu\n",
    "print(pikachu.__dict__) \n",
    "# dunder methods/attributes (aka double underscore) are special built-in methods and attributes\n",
    "    # that have specific behavior\n",
    "    # so when we use an __init__ method, the __dict__ attribute is automatically created in the background\n",
    "    # so we can access the __dict__ attribute\n",
    "        # has value of a dictionary representation of all of the other attributes of our object   \n",
    "pikachu.pokeAPIcall('pikachu') # make the api call happen for the pikachu instance of the Pokemon class\n",
    "print(pikachu)"
   ]
  },
  {
   "cell_type": "code",
   "execution_count": 2,
   "metadata": {},
   "outputs": [
    {
     "ename": "NameError",
     "evalue": "name 'Pokemon' is not defined",
     "output_type": "error",
     "traceback": [
      "\u001b[0;31m---------------------------------------------------------------------------\u001b[0m",
      "\u001b[0;31mNameError\u001b[0m                                 Traceback (most recent call last)",
      "Input \u001b[0;32mIn [2]\u001b[0m, in \u001b[0;36m<module>\u001b[0;34m\u001b[0m\n\u001b[1;32m      4\u001b[0m poke \u001b[38;5;241m=\u001b[39m {}\n\u001b[1;32m      5\u001b[0m \u001b[38;5;28;01mfor\u001b[39;00m name \u001b[38;5;129;01min\u001b[39;00m pokemon:\n\u001b[0;32m----> 6\u001b[0m     new \u001b[38;5;241m=\u001b[39m \u001b[43mPokemon\u001b[49m() \u001b[38;5;66;03m# instantiate a new pokemon\u001b[39;00m\n\u001b[1;32m      7\u001b[0m     new\u001b[38;5;241m.\u001b[39mpokeAPIcall(name) \u001b[38;5;66;03m# fill that pokemon's information based on the name provided\u001b[39;00m\n\u001b[1;32m      8\u001b[0m     poke[name] \u001b[38;5;241m=\u001b[39m new\n",
      "\u001b[0;31mNameError\u001b[0m: name 'Pokemon' is not defined"
     ]
    }
   ],
   "source": [
    "pokemon = ['lugia', 'pikachu', 'charmander', 'bulbasaur', 'squirtle', 'hitmonlee']\n",
    "\n",
    "# dictionary of structure {name: object,}\n",
    "poke = {}\n",
    "for name in pokemon:\n",
    "    new = Pokemon() # instantiate a new pokemon\n",
    "    new.pokeAPIcall(name) # fill that pokemon's information based on the name provided\n",
    "    poke[name] = new\n",
    "    \n",
    "poke"
   ]
  },
  {
   "cell_type": "markdown",
   "metadata": {},
   "source": [
    "### Where to go next? What to do with your Pokemon object? <br><br>\n",
    "## \"What to do now?\"<br>\n",
    "\n",
    "# Shopping cart style program?\n",
    "### User builds a team of pokemon\n",
    "    \n",
    "<p> we could turn our pokemon object that utilizes API calls into a shopping cart style program where we ask our user for input to choose pokemon to create </p> <br> <br>\n",
    "    \n",
    "# Check out what other endpoints the PokeAPI has to offer\n",
    "  I figured out that they have a region endpoint\n",
    " the region endpoint has a pokedex endpoint within it\n",
    " I can build a list of pokemon names from that pokedex endpoint\n",
    " I can use that list of pokemon names in my repeatable pokemon object creation and wind up with a massive list of pokemon\n",
    "<br><br>\n",
    "(note that the API will be a bit slower when you have hundreds of calls to make)\n",
    "        \n",
    "# Turn toward more user searching our pokemon lists - build functions for different types of search\n",
    " user can press 1 to search by name\n",
    " user can press 2 to search by type\n",
    " (have a function that loops through pokemon and figures out if they have the right type)"
   ]
  },
  {
   "cell_type": "code",
   "execution_count": null,
   "metadata": {},
   "outputs": [],
   "source": []
  }
 ],
 "metadata": {
  "kernelspec": {
   "display_name": "Python 3 (ipykernel)",
   "language": "python",
   "name": "python3"
  },
  "language_info": {
   "codemirror_mode": {
    "name": "ipython",
    "version": 3
   },
   "file_extension": ".py",
   "mimetype": "text/x-python",
   "name": "python",
   "nbconvert_exporter": "python",
   "pygments_lexer": "ipython3",
   "version": "3.9.7"
  }
 },
 "nbformat": 4,
 "nbformat_minor": 4
}
